{
 "cells": [
  {
   "cell_type": "code",
   "execution_count": 19,
   "id": "3c46272d-e845-41c7-8b86-f30993c94488",
   "metadata": {},
   "outputs": [
    {
     "name": "stdout",
     "output_type": "stream",
     "text": [
      "Defaulting to user installation because normal site-packages is not writeable\n",
      "Requirement already satisfied: pypdf in c:\\users\\pratibha\\appdata\\roaming\\python\\python311\\site-packages (4.3.0)\n",
      "Requirement already satisfied: langchain in c:\\users\\pratibha\\appdata\\roaming\\python\\python311\\site-packages (0.1.20)\n",
      "Requirement already satisfied: PyYAML>=5.3 in c:\\users\\pratibha\\appdata\\roaming\\python\\python311\\site-packages (from langchain) (6.0.1)\n",
      "Requirement already satisfied: SQLAlchemy<3,>=1.4 in c:\\users\\pratibha\\appdata\\roaming\\python\\python311\\site-packages (from langchain) (2.0.31)\n",
      "Requirement already satisfied: aiohttp<4.0.0,>=3.8.3 in c:\\users\\pratibha\\appdata\\roaming\\python\\python311\\site-packages (from langchain) (3.9.5)\n",
      "Requirement already satisfied: dataclasses-json<0.7,>=0.5.7 in c:\\users\\pratibha\\appdata\\roaming\\python\\python311\\site-packages (from langchain) (0.6.7)\n",
      "Requirement already satisfied: langchain-community<0.1,>=0.0.38 in c:\\users\\pratibha\\appdata\\roaming\\python\\python311\\site-packages (from langchain) (0.0.38)\n",
      "Requirement already satisfied: langchain-core<0.2.0,>=0.1.52 in c:\\users\\pratibha\\appdata\\roaming\\python\\python311\\site-packages (from langchain) (0.1.52)\n",
      "Requirement already satisfied: langchain-text-splitters<0.1,>=0.0.1 in c:\\users\\pratibha\\appdata\\roaming\\python\\python311\\site-packages (from langchain) (0.0.2)\n",
      "Requirement already satisfied: langsmith<0.2.0,>=0.1.17 in c:\\users\\pratibha\\appdata\\roaming\\python\\python311\\site-packages (from langchain) (0.1.82)\n",
      "Requirement already satisfied: numpy<2,>=1 in c:\\users\\pratibha\\appdata\\roaming\\python\\python311\\site-packages (from langchain) (1.26.4)\n",
      "Requirement already satisfied: pydantic<3,>=1 in c:\\users\\pratibha\\appdata\\roaming\\python\\python311\\site-packages (from langchain) (2.8.2)\n",
      "Requirement already satisfied: requests<3,>=2 in c:\\users\\pratibha\\appdata\\roaming\\python\\python311\\site-packages (from langchain) (2.32.3)\n",
      "Requirement already satisfied: tenacity<9.0.0,>=8.1.0 in c:\\users\\pratibha\\appdata\\roaming\\python\\python311\\site-packages (from langchain) (8.4.2)\n",
      "Requirement already satisfied: aiosignal>=1.1.2 in c:\\users\\pratibha\\appdata\\roaming\\python\\python311\\site-packages (from aiohttp<4.0.0,>=3.8.3->langchain) (1.3.1)\n",
      "Requirement already satisfied: attrs>=17.3.0 in c:\\users\\pratibha\\appdata\\roaming\\python\\python311\\site-packages (from aiohttp<4.0.0,>=3.8.3->langchain) (23.2.0)\n",
      "Requirement already satisfied: frozenlist>=1.1.1 in c:\\users\\pratibha\\appdata\\roaming\\python\\python311\\site-packages (from aiohttp<4.0.0,>=3.8.3->langchain) (1.4.1)\n",
      "Requirement already satisfied: multidict<7.0,>=4.5 in c:\\users\\pratibha\\appdata\\roaming\\python\\python311\\site-packages (from aiohttp<4.0.0,>=3.8.3->langchain) (6.0.5)\n",
      "Requirement already satisfied: yarl<2.0,>=1.0 in c:\\users\\pratibha\\appdata\\roaming\\python\\python311\\site-packages (from aiohttp<4.0.0,>=3.8.3->langchain) (1.9.4)\n",
      "Requirement already satisfied: marshmallow<4.0.0,>=3.18.0 in c:\\users\\pratibha\\appdata\\roaming\\python\\python311\\site-packages (from dataclasses-json<0.7,>=0.5.7->langchain) (3.21.3)\n",
      "Requirement already satisfied: typing-inspect<1,>=0.4.0 in c:\\users\\pratibha\\appdata\\roaming\\python\\python311\\site-packages (from dataclasses-json<0.7,>=0.5.7->langchain) (0.9.0)\n",
      "Requirement already satisfied: jsonpatch<2.0,>=1.33 in c:\\users\\pratibha\\appdata\\roaming\\python\\python311\\site-packages (from langchain-core<0.2.0,>=0.1.52->langchain) (1.33)\n",
      "Requirement already satisfied: packaging<24.0,>=23.2 in c:\\users\\pratibha\\appdata\\roaming\\python\\python311\\site-packages (from langchain-core<0.2.0,>=0.1.52->langchain) (23.2)\n",
      "Requirement already satisfied: orjson<4.0.0,>=3.9.14 in c:\\users\\pratibha\\appdata\\roaming\\python\\python311\\site-packages (from langsmith<0.2.0,>=0.1.17->langchain) (3.10.5)\n",
      "Requirement already satisfied: annotated-types>=0.4.0 in c:\\users\\pratibha\\appdata\\roaming\\python\\python311\\site-packages (from pydantic<3,>=1->langchain) (0.7.0)\n",
      "Requirement already satisfied: pydantic-core==2.20.1 in c:\\users\\pratibha\\appdata\\roaming\\python\\python311\\site-packages (from pydantic<3,>=1->langchain) (2.20.1)\n",
      "Requirement already satisfied: typing-extensions>=4.6.1 in c:\\users\\pratibha\\appdata\\roaming\\python\\python311\\site-packages (from pydantic<3,>=1->langchain) (4.12.2)\n",
      "Requirement already satisfied: charset-normalizer<4,>=2 in c:\\users\\pratibha\\appdata\\roaming\\python\\python311\\site-packages (from requests<3,>=2->langchain) (3.3.2)\n",
      "Requirement already satisfied: idna<4,>=2.5 in c:\\users\\pratibha\\appdata\\roaming\\python\\python311\\site-packages (from requests<3,>=2->langchain) (3.7)\n",
      "Requirement already satisfied: urllib3<3,>=1.21.1 in c:\\users\\pratibha\\appdata\\roaming\\python\\python311\\site-packages (from requests<3,>=2->langchain) (2.2.2)\n",
      "Requirement already satisfied: certifi>=2017.4.17 in c:\\users\\pratibha\\appdata\\roaming\\python\\python311\\site-packages (from requests<3,>=2->langchain) (2024.7.4)\n",
      "Requirement already satisfied: greenlet!=0.4.17 in c:\\users\\pratibha\\appdata\\roaming\\python\\python311\\site-packages (from SQLAlchemy<3,>=1.4->langchain) (3.0.3)\n",
      "Requirement already satisfied: jsonpointer>=1.9 in c:\\users\\pratibha\\appdata\\roaming\\python\\python311\\site-packages (from jsonpatch<2.0,>=1.33->langchain-core<0.2.0,>=0.1.52->langchain) (3.0.0)\n",
      "Requirement already satisfied: mypy-extensions>=0.3.0 in f:\\anaconda_installed\\lib\\site-packages (from typing-inspect<1,>=0.4.0->dataclasses-json<0.7,>=0.5.7->langchain) (1.0.0)\n"
     ]
    }
   ],
   "source": [
    "#loading all library\n",
    "!pip install pypdf langchain\n",
    "from langchain_community.document_loaders import PyPDFLoader\n",
    "from langchain_community.document_loaders import PyPDFDirectoryLoader\n",
    "from langchain.text_splitter import RecursiveCharacterTextSplitter\n",
    "from langchain_community.vectorstores import FAISS\n",
    "\n",
    "from langchain_community.embeddings import HuggingFaceBgeEmbeddings\n",
    "from langchain.prompts import PromptTemplate\n",
    "\n",
    "from langchain.chains import RetrievalQA"
   ]
  },
  {
   "cell_type": "code",
   "execution_count": 20,
   "id": "457989fd-5570-486f-88cd-39fec13b622c",
   "metadata": {},
   "outputs": [
    {
     "name": "stdout",
     "output_type": "stream",
     "text": [
      "File found at C:\\Users\\PRATIBHA\\Desktop\\pythan\\My_Invoice.pdf. Proceeding with loading.\n",
      "Loaded 2 documents.\n",
      "Document Content Preview: Reliance Retail Limited  \n",
      "2nd and 3rd Floor, Sandhya Tower, Purlia Road Konka,  \n",
      "Lalpur, Ranchi, Jharkhand Ranchi Jharkhand 834001  \n",
      "(Original for Recipient)  \n",
      "Tax Invoice  \n",
      "Invoice No : 20R22H0500470311  \n",
      "PAN No : AABCR1718E  \n",
      "Order Ref. No. : TB000 100WQ1T  \n",
      "Mode of Payment : UPI                                                                                                       \n",
      "Invoice/Payment Date & Time : 27 Jul,2022  09:43:01 \n",
      "GST No : 20AABCR1718E1Z3  \n",
      "Payment Ref. No. : 21110 640017545\n",
      "Split into 3 chunks.\n",
      "First chunk preview: Reliance Retail Limited  \n",
      "2nd and 3rd Floor, Sandhya Tower, Purlia Road Konka,  \n",
      "Lalpur, Ranchi, Jharkhand Ranchi Jharkhand 834001  \n",
      "(Original for Recipient)  \n",
      "Tax Invoice  \n",
      "Invoice No : 20R22H0500470311  \n",
      "PAN No : AABCR1718E  \n",
      "Order Ref. No. : TB000 100WQ1T  \n",
      "Mode of Payment : UPI                                                                                                       \n",
      "Invoice/Payment Date & Time : 27 Jul,2022  09:43:01 \n",
      "GST No : 20AABCR1718E1Z3  \n",
      "Payment Ref. No. : 21110 640017545\n"
     ]
    }
   ],
   "source": [
    "#Read the pdf from folder\n",
    "import os\n",
    "\n",
    "file_path = r'C:\\Users\\PRATIBHA\\Desktop\\pythan\\My_Invoice.pdf'\n",
    "if not os.path.exists(file_path):\n",
    "    raise FileNotFoundError(f\"The file at {file_path} does not exist.\")\n",
    "else:\n",
    "    print(f\"File found at {file_path}. Proceeding with loading.\")\n",
    "\n",
    "# Initialize the PDF loader\n",
    "loader = PyPDFLoader(file_path)\n",
    "\n",
    "# Load the documents from the PDF\n",
    "documents = loader.load()\n",
    "\n",
    "# Check if documents are loaded\n",
    "if not documents:\n",
    "    raise ValueError(\"No documents were loaded. Please check the file path and format.\")\n",
    "else:\n",
    "    # Print the first document's text content\n",
    "    print(f\"Loaded {len(documents)} documents.\")\n",
    "    print(\"Document Content Preview:\", documents[0].page_content[:500])  # Print the first 500 characters for preview\n",
    "\n",
    "# Initialize the text splitter with correct arguments\n",
    "text_splitter = RecursiveCharacterTextSplitter(chunk_size=1000, chunk_overlap=200)\n",
    "\n",
    "# Split the documents into chunks\n",
    "final_documents = text_splitter.split_documents(documents)\n",
    "\n",
    "# Check if documents are split correctly\n",
    "if not final_documents:\n",
    "    raise ValueError(\"No documents were split. Please check the splitting parameters and document content.\")\n",
    "else:\n",
    "    # Print the first chunk's text content\n",
    "    print(f\"Split into {len(final_documents)} chunks.\")\n",
    "    print(\"First chunk preview:\", final_documents[0].page_content[:500])"
   ]
  },
  {
   "cell_type": "code",
   "execution_count": null,
   "id": "d3bc8e2b-2c98-42d3-a068-617fa0bff39f",
   "metadata": {},
   "outputs": [],
   "source": []
  }
 ],
 "metadata": {
  "kernelspec": {
   "display_name": "Python 3 (ipykernel)",
   "language": "python",
   "name": "python3"
  },
  "language_info": {
   "codemirror_mode": {
    "name": "ipython",
    "version": 3
   },
   "file_extension": ".py",
   "mimetype": "text/x-python",
   "name": "python",
   "nbconvert_exporter": "python",
   "pygments_lexer": "ipython3",
   "version": "3.11.7"
  }
 },
 "nbformat": 4,
 "nbformat_minor": 5
}
