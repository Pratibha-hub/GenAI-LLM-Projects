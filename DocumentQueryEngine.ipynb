{
 "cells": [
  {
   "cell_type": "code",
   "execution_count": 1,
   "id": "83479b4a-8b3c-493c-b319-1d1fe4ef9930",
   "metadata": {},
   "outputs": [
    {
     "name": "stdout",
     "output_type": "stream",
     "text": [
      "Defaulting to user installation because normal site-packages is not writeable\n",
      "Requirement already satisfied: pandas in f:\\anaconda_installed\\lib\\site-packages (2.1.4)\n",
      "Requirement already satisfied: openpyxl in f:\\anaconda_installed\\lib\\site-packages (3.0.10)\n",
      "Requirement already satisfied: transformers in c:\\users\\pratibha\\appdata\\roaming\\python\\python311\\site-packages (4.41.2)\n",
      "Requirement already satisfied: numpy<2,>=1.23.2 in c:\\users\\pratibha\\appdata\\roaming\\python\\python311\\site-packages (from pandas) (1.26.4)\n",
      "Requirement already satisfied: python-dateutil>=2.8.2 in f:\\anaconda_installed\\lib\\site-packages (from pandas) (2.8.2)\n",
      "Requirement already satisfied: pytz>=2020.1 in f:\\anaconda_installed\\lib\\site-packages (from pandas) (2023.3.post1)\n",
      "Requirement already satisfied: tzdata>=2022.1 in f:\\anaconda_installed\\lib\\site-packages (from pandas) (2023.3)\n",
      "Requirement already satisfied: et_xmlfile in f:\\anaconda_installed\\lib\\site-packages (from openpyxl) (1.1.0)\n",
      "Requirement already satisfied: filelock in f:\\anaconda_installed\\lib\\site-packages (from transformers) (3.13.1)\n",
      "Requirement already satisfied: huggingface-hub<1.0,>=0.23.0 in c:\\users\\pratibha\\appdata\\roaming\\python\\python311\\site-packages (from transformers) (0.23.4)\n",
      "Requirement already satisfied: packaging>=20.0 in c:\\users\\pratibha\\appdata\\roaming\\python\\python311\\site-packages (from transformers) (23.2)\n",
      "Requirement already satisfied: pyyaml>=5.1 in c:\\users\\pratibha\\appdata\\roaming\\python\\python311\\site-packages (from transformers) (6.0.1)\n",
      "Requirement already satisfied: regex!=2019.12.17 in f:\\anaconda_installed\\lib\\site-packages (from transformers) (2023.10.3)\n",
      "Requirement already satisfied: requests in c:\\users\\pratibha\\appdata\\roaming\\python\\python311\\site-packages (from transformers) (2.32.3)\n",
      "Requirement already satisfied: tokenizers<0.20,>=0.19 in c:\\users\\pratibha\\appdata\\roaming\\python\\python311\\site-packages (from transformers) (0.19.1)\n",
      "Requirement already satisfied: safetensors>=0.4.1 in c:\\users\\pratibha\\appdata\\roaming\\python\\python311\\site-packages (from transformers) (0.4.3)\n",
      "Requirement already satisfied: tqdm>=4.27 in c:\\users\\pratibha\\appdata\\roaming\\python\\python311\\site-packages (from transformers) (4.66.4)\n",
      "Requirement already satisfied: fsspec>=2023.5.0 in f:\\anaconda_installed\\lib\\site-packages (from huggingface-hub<1.0,>=0.23.0->transformers) (2023.10.0)\n",
      "Requirement already satisfied: typing-extensions>=3.7.4.3 in c:\\users\\pratibha\\appdata\\roaming\\python\\python311\\site-packages (from huggingface-hub<1.0,>=0.23.0->transformers) (4.12.2)\n",
      "Requirement already satisfied: six>=1.5 in f:\\anaconda_installed\\lib\\site-packages (from python-dateutil>=2.8.2->pandas) (1.16.0)\n",
      "Requirement already satisfied: colorama in f:\\anaconda_installed\\lib\\site-packages (from tqdm>=4.27->transformers) (0.4.6)\n",
      "Requirement already satisfied: charset-normalizer<4,>=2 in c:\\users\\pratibha\\appdata\\roaming\\python\\python311\\site-packages (from requests->transformers) (3.3.2)\n",
      "Requirement already satisfied: idna<4,>=2.5 in c:\\users\\pratibha\\appdata\\roaming\\python\\python311\\site-packages (from requests->transformers) (3.7)\n",
      "Requirement already satisfied: urllib3<3,>=1.21.1 in c:\\users\\pratibha\\appdata\\roaming\\python\\python311\\site-packages (from requests->transformers) (2.2.2)\n",
      "Requirement already satisfied: certifi>=2017.4.17 in c:\\users\\pratibha\\appdata\\roaming\\python\\python311\\site-packages (from requests->transformers) (2024.7.4)\n"
     ]
    }
   ],
   "source": [
    "#! pip install pandas openpyxl transformers:::Set Up Your Environment\n",
    "! pip install pandas openpyxl transformers"
   ]
  },
  {
   "cell_type": "code",
   "execution_count": 3,
   "id": "5d46162a-66e8-4318-92b8-3fabd6749bd9",
   "metadata": {},
   "outputs": [],
   "source": [
    "#Import Libraries:\n",
    "import pandas as pd\n",
    "from transformers import pipeline"
   ]
  },
  {
   "cell_type": "code",
   "execution_count": 12,
   "id": "03262b87-456d-46f2-a039-33e9688eba5d",
   "metadata": {},
   "outputs": [],
   "source": [
    "#Load Data from Excel\n",
    "\n",
    "file_path = '\\Desktop\\pythan\\dataset.xlsx'\n",
    "data = pd.read_excel('dataset.xlsx', engine='openpyxl')\n"
   ]
  },
  {
   "cell_type": "code",
   "execution_count": 14,
   "id": "e0f366d9-c1d3-4a7a-be80-f0e047cdd3c4",
   "metadata": {},
   "outputs": [],
   "source": [
    "#Preprocess Data::Depending on the content and structure of your Excel file, you might need to preprocess the data. For example, you can convert the data into a format suitable for your model.\n",
    "import os\n",
    "os.environ[\"HF_HUB_DISABLE_SYMLINKS_WARNING\"] = \"1\"\n"
   ]
  },
  {
   "cell_type": "code",
   "execution_count": 13,
   "id": "685f1595-d351-4043-9df1-9c4f75009fbf",
   "metadata": {},
   "outputs": [],
   "source": [
    "# Combine Data for Context\n",
    "# Combine all columns into a single context string\n",
    "context = \" \".join(data.apply(lambda row: f\"{row['Environment']} {row['Hostname']} {row['Port']}\", axis=1).tolist())\n"
   ]
  },
  {
   "cell_type": "code",
   "execution_count": null,
   "id": "8af42db4-fb45-4e1b-861a-3a93698571d1",
   "metadata": {},
   "outputs": [],
   "source": [
    "# Initialize Hugging Face Pipeline\n",
    "model_name = \"AlexKay/xlm-roberta-large-qa-multilingual-finedtuned-ru\"\n",
    "qa_pipeline = pipeline(\"question-answering\", model=model_name)"
   ]
  },
  {
   "cell_type": "code",
   "execution_count": 10,
   "id": "37b69320-bcff-49c0-b1b4-fc6f72fa671a",
   "metadata": {},
   "outputs": [],
   "source": [
    "# Define Function to Answer Questions\n",
    "def answer_question(question, context):\n",
    "    result = qa_pipeline(question=question, context=context)\n",
    "    return result['answer']"
   ]
  },
  {
   "cell_type": "code",
   "execution_count": 17,
   "id": "dc039743-81fd-4629-a5cb-82ef60a5216b",
   "metadata": {},
   "outputs": [
    {
     "name": "stdout",
     "output_type": "stream",
     "text": [
      " stag.com\n"
     ]
    }
   ],
   "source": [
    "# Ask Questions\n",
    "question = \"What is the hostname for the staging environment?\"\n",
    "answer = answer_question(question, context)\n",
    "print(answer)"
   ]
  },
  {
   "cell_type": "code",
   "execution_count": 23,
   "id": "28dc4bb3-2f1c-422a-95ea-1aaa114b9caa",
   "metadata": {},
   "outputs": [
    {
     "name": "stdout",
     "output_type": "stream",
     "text": [
      " prod.com 13\n"
     ]
    }
   ],
   "source": [
    "# Ask Questions\n",
    "question = \"hostname for prod?\"\n",
    "answer = answer_question(question, context)\n",
    "print(answer)"
   ]
  }
 ],
 "metadata": {
  "kernelspec": {
   "display_name": "Python 3 (ipykernel)",
   "language": "python",
   "name": "python3"
  },
  "language_info": {
   "codemirror_mode": {
    "name": "ipython",
    "version": 3
   },
   "file_extension": ".py",
   "mimetype": "text/x-python",
   "name": "python",
   "nbconvert_exporter": "python",
   "pygments_lexer": "ipython3",
   "version": "3.11.7"
  }
 },
 "nbformat": 4,
 "nbformat_minor": 5
}
